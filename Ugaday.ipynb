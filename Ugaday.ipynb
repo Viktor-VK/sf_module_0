{
 "cells": [
  {
   "cell_type": "code",
   "execution_count": 161,
   "metadata": {},
   "outputs": [
    {
     "name": "stdout",
     "output_type": "stream",
     "text": [
      "Загадано число от 1 до 99\n",
      "(Программа загадала число 52 )\n",
      "Попытка 1 число 99\n",
      "Попытка 2 число 49\n",
      "Попытка 3 число 74\n",
      "Попытка 4 число 61\n",
      "Попытка 5 число 54\n",
      "Попытка 6 число 50\n",
      "Попытка 7 число 52\n",
      "Число 52 отгадано с попытки № 7\n"
     ]
    }
   ],
   "source": [
    "# Игра \"Угадай число\"\n",
    "\n",
    "import numpy as np\n",
    "count = 0                            # счетчик попыток\n",
    "number = np.random.randint(1,100)    # загадали число\n",
    "x=99  # попытка №1\n",
    "a=0\n",
    "b=0\n",
    "c=0\n",
    "print (\"Загадано число от 1 до 99\")\n",
    "print('(Программа загадала число', number,')')\n",
    "print('Попытка 1', 'число', x)\n",
    "while x!=number and count<50:\n",
    "    count+=1\n",
    "    if number<x:\n",
    "        a=x\n",
    "        if c==0:\n",
    "            x=a//2\n",
    "        else:\n",
    "            x=a-c//2 \n",
    "        b=x\n",
    "        c=a-b+1\n",
    "        print('Попытка', count+1, 'число', x)\n",
    "    else:\n",
    "        a=x\n",
    "        x=a+c//2\n",
    "        c=x-a+1\n",
    "        print('Попытка', count+1, 'число', x)\n",
    "print('Число', x, 'отгадано с попытки №', count+1)"
   ]
  },
  {
   "cell_type": "code",
   "execution_count": null,
   "metadata": {},
   "outputs": [],
   "source": []
  }
 ],
 "metadata": {
  "kernelspec": {
   "display_name": "Python 3",
   "language": "python",
   "name": "python3"
  },
  "language_info": {
   "codemirror_mode": {
    "name": "ipython",
    "version": 3
   },
   "file_extension": ".py",
   "mimetype": "text/x-python",
   "name": "python",
   "nbconvert_exporter": "python",
   "pygments_lexer": "ipython3",
   "version": "3.7.4"
  }
 },
 "nbformat": 4,
 "nbformat_minor": 2
}
